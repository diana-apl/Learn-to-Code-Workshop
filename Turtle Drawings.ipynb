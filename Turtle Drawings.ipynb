{
 "cells": [
  {
   "cell_type": "markdown",
   "metadata": {},
   "source": [
    "# Turtle Graphics\n",
    "- It is a popular way to intoduce Python to kids. \n",
    "- Shapes and pictures can easily be drawn using turtle. \n",
    "- import turtle comman is necessary.\n",
    "\n",
    "If you want to find out more about Turtle and its functionality, [check out this link](https://docs.python.org/2/library/turtle.html#turtle.goto)."
   ]
  },
  {
   "cell_type": "code",
   "execution_count": 1,
   "metadata": {
    "collapsed": true
   },
   "outputs": [],
   "source": [
    "import turtle "
   ]
  },
  {
   "cell_type": "code",
   "execution_count": 2,
   "metadata": {
    "collapsed": true
   },
   "outputs": [],
   "source": [
    "# To create a turtle, first you need to create a variable and access the Pen function. I will call my variable t.\n",
    "import turtle\n",
    "t = turtle.Pen()\n",
    "\n",
    "#Notice that a new window will come up.\n"
   ]
  },
  {
   "cell_type": "markdown",
   "metadata": {},
   "source": [
    "##### Create your own turtle and give it a new name. "
   ]
  },
  {
   "cell_type": "code",
   "execution_count": null,
   "metadata": {
    "collapsed": true
   },
   "outputs": [],
   "source": [
    "# Put your code here:"
   ]
  },
  {
   "cell_type": "markdown",
   "metadata": {},
   "source": [
    "Right now, your turtle is just an arrow, but you can change the shape. Here are the following shapes that it can take:\n",
    "- arrow\n",
    "- turtle \n",
    "- circle\n",
    "- square\n",
    "- triangle \n",
    "- classic"
   ]
  },
  {
   "cell_type": "code",
   "execution_count": 3,
   "metadata": {
    "collapsed": true
   },
   "outputs": [],
   "source": [
    "t.shape('circle')\n",
    "# Notice that the shape change to a circle. "
   ]
  },
  {
   "cell_type": "markdown",
   "metadata": {},
   "source": [
    "##### Try to change the sape of your arrow with a turtle. If you chose another name, make sure you make the necessary changes."
   ]
  },
  {
   "cell_type": "code",
   "execution_count": 20,
   "metadata": {
    "collapsed": true
   },
   "outputs": [],
   "source": [
    "#Put your code here:\n"
   ]
  },
  {
   "cell_type": "markdown",
   "metadata": {},
   "source": [
    "You can also change the colour of the turtle. Here are some colours that it can take.\n",
    "- red\n",
    "- cyan\n",
    "- pink \n",
    "- violet\n",
    "- magenta\n",
    "- blue \n",
    "- purple\n",
    "These are just an example.There are lots of other possibilities. [Here's the link to all the colours](http://www.tcl.tk/man/tcl8.5/TkCmd/colors.htm)"
   ]
  },
  {
   "cell_type": "code",
   "execution_count": 4,
   "metadata": {
    "collapsed": true
   },
   "outputs": [],
   "source": [
    "t.color('red')\n",
    "# Make your turtle your favourite colour. :) \n"
   ]
  },
  {
   "cell_type": "markdown",
   "metadata": {},
   "source": [
    "Your turtle can move forward or backward by a specific distance."
   ]
  },
  {
   "cell_type": "code",
   "execution_count": 5,
   "metadata": {
    "collapsed": true
   },
   "outputs": [],
   "source": [
    "t.forward(50)\n",
    "t.backward(100)"
   ]
  },
  {
   "cell_type": "markdown",
   "metadata": {},
   "source": [
    "To bring the turtle at the initial location and delete its drawings, you need to reset it. "
   ]
  },
  {
   "cell_type": "code",
   "execution_count": 6,
   "metadata": {
    "collapsed": true
   },
   "outputs": [],
   "source": [
    "t.reset()"
   ]
  },
  {
   "cell_type": "markdown",
   "metadata": {},
   "source": [
    "The turtle can also change directions by a certain angle. It can either move left or right from the direction that is facing.  "
   ]
  },
  {
   "cell_type": "code",
   "execution_count": 7,
   "metadata": {
    "collapsed": true
   },
   "outputs": [],
   "source": [
    "t.left(90)\n",
    "\n",
    "#See what happend? Now try to change the direction of your turtle to the right. Change the angle in the brackets."
   ]
  },
  {
   "cell_type": "markdown",
   "metadata": {},
   "source": [
    "##### Take a look at the following code. The goal is to make a square. Can you do it?"
   ]
  },
  {
   "cell_type": "code",
   "execution_count": 8,
   "metadata": {
    "collapsed": true
   },
   "outputs": [],
   "source": [
    "t.reset()\n",
    "t.forward(170)\n",
    "t.left(90)\n",
    "t.forward(170)"
   ]
  },
  {
   "cell_type": "markdown",
   "metadata": {},
   "source": [
    "You can always bring your turtle home!! If you want to bring the turtle at the initial position where it started, you can need to call the .home() function."
   ]
  },
  {
   "cell_type": "code",
   "execution_count": 9,
   "metadata": {
    "collapsed": true
   },
   "outputs": [],
   "source": [
    "t.forward(50)\n",
    "t.right(45)\n",
    "t.forward(70)\n",
    "t.home()"
   ]
  },
  {
   "cell_type": "markdown",
   "metadata": {},
   "source": [
    "You can change the speed of the turtle. The value of the speen ranges between 0 and 10. \n",
    "- \"fastest\": 0\n",
    "- \"fast\" : 10\n",
    "- \"normal\": 6\n",
    "- \"slow\": 3\n",
    "- \"slowest\" : 1"
   ]
  },
  {
   "cell_type": "code",
   "execution_count": null,
   "metadata": {
    "collapsed": true
   },
   "outputs": [],
   "source": [
    "t.speed(1) # makes the turtle go very slow."
   ]
  },
  {
   "cell_type": "markdown",
   "metadata": {},
   "source": [
    "Your turtle can also go in circles."
   ]
  },
  {
   "cell_type": "code",
   "execution_count": 10,
   "metadata": {
    "collapsed": true
   },
   "outputs": [],
   "source": [
    "t.circle(40)\n",
    "\n",
    "#Try a negative number to see what happens. "
   ]
  },
  {
   "cell_type": "markdown",
   "metadata": {},
   "source": [
    "You can also mark down the current spot that your turtle is in by drawing a dot.\n",
    ".dot(size,'color')"
   ]
  },
  {
   "cell_type": "code",
   "execution_count": 11,
   "metadata": {
    "collapsed": true
   },
   "outputs": [],
   "source": [
    "t.dot(10)\n",
    "t.forward(85)\n",
    "t.dot(30,'red')"
   ]
  },
  {
   "cell_type": "markdown",
   "metadata": {},
   "source": [
    "If you do not want a dot, but a copy of the turtle shape onto the canvas at the current turtle position, you can leave a stamp. You should store it in a variable, so you can delete it later if you do not need it anymore."
   ]
  },
  {
   "cell_type": "code",
   "execution_count": 12,
   "metadata": {
    "collapsed": true
   },
   "outputs": [],
   "source": [
    "myStamp = t.stamp()\n",
    "t.forward(45)"
   ]
  },
  {
   "cell_type": "code",
   "execution_count": 13,
   "metadata": {
    "collapsed": true
   },
   "outputs": [],
   "source": [
    "# To delete the stamp, you use clearstamp(stampName)\n",
    "t.clearstamp(myStamp)"
   ]
  },
  {
   "cell_type": "markdown",
   "metadata": {},
   "source": [
    "If you want to move the position of your turtle without drawing something. You can start your drawing from a new location. In order to do that you need to lift up your pen and move it to the new location. "
   ]
  },
  {
   "cell_type": "code",
   "execution_count": 14,
   "metadata": {
    "collapsed": true
   },
   "outputs": [],
   "source": [
    "t.up()\n",
    "t.right(90)\n",
    "t.forward(100)"
   ]
  },
  {
   "cell_type": "markdown",
   "metadata": {},
   "source": [
    "When you are ready to draw again, you need to put your pen down."
   ]
  },
  {
   "cell_type": "code",
   "execution_count": 15,
   "metadata": {
    "collapsed": true
   },
   "outputs": [],
   "source": [
    "t.down()\n",
    "t.forward(40)"
   ]
  },
  {
   "cell_type": "markdown",
   "metadata": {},
   "source": [
    "##### Try to position two turtles just like in the image below. Make sure you create two different turtles and store them in two different variables. You cannot use the stamp() function. "
   ]
  },
  {
   "cell_type": "markdown",
   "metadata": {},
   "source": [
    "<img src = '2turtles.jpg' width = 250> "
   ]
  },
  {
   "cell_type": "code",
   "execution_count": 19,
   "metadata": {
    "collapsed": true
   },
   "outputs": [],
   "source": [
    "# Put your code here. \n"
   ]
  },
  {
   "cell_type": "markdown",
   "metadata": {},
   "source": [
    "##### Now is the time to connect all the concepts you have learned so far. \n",
    "##### Let's start a race! Use the code above to start your race. The blue turtle is the user's turtle and the black one is the 'computer' turtle. Generate a random number from 0 to 200 and store it in a variable. This will represent the distance that the 'computer' turtle will travel.Then ask the user to input a number from 0 to 200 that represents how far the turtle should travel. The user's turtle is the blue one.\n",
    "##### Move the turtles forward by the distance in the variables. \n",
    "##### If the user's turtle got farther, let him know that he won. If the 'computer' turtle got farther, let the user know that he lots. Otherwise, let him know that it was a tie. \n",
    "To generate a random number from 0 to 200 use the following code:\n",
    "\n",
    "import random\n",
    "\n",
    "distanceComputer = random.randint(0,200)"
   ]
  },
  {
   "cell_type": "code",
   "execution_count": null,
   "metadata": {
    "collapsed": true
   },
   "outputs": [],
   "source": [
    "## Put your code here:\n"
   ]
  }
 ],
 "metadata": {
  "kernelspec": {
   "display_name": "Python [Root]",
   "language": "python",
   "name": "Python [Root]"
  },
  "language_info": {
   "codemirror_mode": {
    "name": "ipython",
    "version": 3
   },
   "file_extension": ".py",
   "mimetype": "text/x-python",
   "name": "python",
   "nbconvert_exporter": "python",
   "pygments_lexer": "ipython3",
   "version": "3.5.2"
  }
 },
 "nbformat": 4,
 "nbformat_minor": 0
}
