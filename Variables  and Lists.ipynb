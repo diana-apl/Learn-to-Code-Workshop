{
 "cells": [
  {
   "cell_type": "markdown",
   "metadata": {},
   "source": [
    "# Variables \n",
    "\n",
    "- Variables represent and hold values in memory. \n",
    "\n",
    "- The value that is stored in the variable can be changed (It varies!)\n",
    "\n",
    "[Click here to learn more about variables!](http://www.tutorialspoint.com/python/python_variable_types.htm)"
   ]
  },
  {
   "cell_type": "markdown",
   "metadata": {
    "collapsed": true
   },
   "source": [
    "<img src=\"Variables Slide 2.jpg\" width = 600 align=\"left\">"
   ]
  },
  {
   "cell_type": "code",
   "execution_count": 1,
   "metadata": {
    "collapsed": false
   },
   "outputs": [
    {
     "name": "stdout",
     "output_type": "stream",
     "text": [
      "58\n"
     ]
    }
   ],
   "source": [
    "a = 3       # value 3 is assigned to variable a\n",
    "b = 55\n",
    "c = a + b   # c stores the sum of a and b \n",
    "print (c)   # print is a function that distays the value stored in variable c"
   ]
  },
  {
   "cell_type": "markdown",
   "metadata": {},
   "source": [
    "- In this case, a,b and c are variables and they store different numerical values. \n",
    "- The symbol # indicates the beginning of a comment. \n",
    "\n",
    "\n",
    "\n"
   ]
  },
  {
   "cell_type": "markdown",
   "metadata": {},
   "source": [
    "<img src = \"Variable Name.jpg\" width = 600 align=\"left\"> "
   ]
  },
  {
   "cell_type": "markdown",
   "metadata": {
    "collapsed": true
   },
   "source": [
    "\n",
    "## Variables can have different types:\n",
    "    - integer: 3 , 40 , 500\n",
    "    - float / double: 3.45 , 7.2\n",
    "    - string: 'Hello world!'\n",
    "    - boolean: True , False\n",
    "    - null: None\n",
    "    - tuple, which is a sequence of immutable object \n",
    "    - lists, which contains items separated by commas and enclosed within square brackets"
   ]
  },
  {
   "cell_type": "code",
   "execution_count": 2,
   "metadata": {
    "collapsed": true
   },
   "outputs": [],
   "source": [
    "x = 14         # integer assignment\n",
    "y = 16.7       # a floating point\n",
    "z = 'Hi!'      # a string \n",
    "t = True       # a boolean. Make sure you use the upper case letter.\n",
    "n = None       # variable n does not store anything in it.\n",
    "t1 = 1,3,4,6   # a tuple; The size of the tuple cannot be changed\n",
    "someList = [6,7,3,8] # a list; The size of a list can be changed. "
   ]
  },
  {
   "cell_type": "markdown",
   "metadata": {
    "collapsed": true
   },
   "source": [
    "You can also delete a variable from memory, by using the function 'del' before the variable name. Take a look at the following example: "
   ]
  },
  {
   "cell_type": "code",
   "execution_count": 2,
   "metadata": {
    "collapsed": false
   },
   "outputs": [
    {
     "name": "stdout",
     "output_type": "stream",
     "text": [
      "46\n",
      "30\n"
     ]
    },
    {
     "ename": "NameError",
     "evalue": "name 'a' is not defined",
     "output_type": "error",
     "traceback": [
      "\u001b[1;31m---------------------------------------------------------------------------\u001b[0m",
      "\u001b[1;31mNameError\u001b[0m                                 Traceback (most recent call last)",
      "\u001b[1;32m<ipython-input-2-baffffbfe114>\u001b[0m in \u001b[0;36m<module>\u001b[1;34m()\u001b[0m\n\u001b[0;32m      4\u001b[0m \u001b[0mprint\u001b[0m \u001b[1;33m(\u001b[0m\u001b[0mb\u001b[0m\u001b[1;33m)\u001b[0m\u001b[1;33m\u001b[0m\u001b[0m\n\u001b[0;32m      5\u001b[0m \u001b[1;32mdel\u001b[0m \u001b[0ma\u001b[0m      \u001b[1;31m# the variable a is no longer stored in memory\u001b[0m\u001b[1;33m\u001b[0m\u001b[0m\n\u001b[1;32m----> 6\u001b[1;33m \u001b[0mprint\u001b[0m\u001b[1;33m(\u001b[0m\u001b[0ma\u001b[0m\u001b[1;33m)\u001b[0m\u001b[1;33m\u001b[0m\u001b[0m\n\u001b[0m\u001b[0;32m      7\u001b[0m \u001b[0mprint\u001b[0m\u001b[1;33m(\u001b[0m\u001b[0mb\u001b[0m\u001b[1;33m)\u001b[0m\u001b[1;33m\u001b[0m\u001b[0m\n",
      "\u001b[1;31mNameError\u001b[0m: name 'a' is not defined"
     ]
    }
   ],
   "source": [
    "a = 46     # Variable 'a' was created and value '46' is stored in this variable.\n",
    "b = 30\n",
    "print(a)   # the value is printed on the screen. \n",
    "print (b)\n",
    "del a      # the variable a is no longer stored in memory \n",
    "print(a)\n",
    "print(b)"
   ]
  },
  {
   "cell_type": "markdown",
   "metadata": {},
   "source": [
    "^ There are two things you should notice about the code above.\n",
    "- The first time your computer was able to print 'a', but after you deleted it from the memory, 'a' was no longer found. \n",
    "- Python executes the lines of code in consecutive order, and once it runs in an error the lines that follow are not executed anymore (The value of b never gets printed on the screen, line 'print(b)' never gets executed."
   ]
  },
  {
   "cell_type": "markdown",
   "metadata": {},
   "source": [
    "## Why Variables?\n",
    "\n",
    "1. They can be used when the value that they represent is unknown when the code is written.\n",
    "2. They can save time when updating a script.\n",
    "3. Cleaner code.\n"
   ]
  },
  {
   "cell_type": "code",
   "execution_count": 13,
   "metadata": {
    "collapsed": false
   },
   "outputs": [
    {
     "name": "stdout",
     "output_type": "stream",
     "text": [
      "My name is Diana\n",
      "Diana's favourite show is Game of Thrones\n",
      "Diana watches Game of Thrones every Sunday.\n"
     ]
    }
   ],
   "source": [
    "# Change the value of the variables. \n",
    "\n",
    "name = 'Diana'\n",
    "show = 'Game of Thrones'\n",
    "\n",
    "print ('My name is ' + name)\n",
    "print (name + '\\'s favourite show is ' + show)\n",
    "print (name + \" watches \" + show + \" every Sunday night.\" )"
   ]
  },
  {
   "cell_type": "markdown",
   "metadata": {},
   "source": [
    "!!! Now is your turn! Change the value of variable 'name' and 'show'. See the problem? Not every show plays on Sunday night. Try to fix this problem by creating another variable.   "
   ]
  },
  {
   "cell_type": "markdown",
   "metadata": {},
   "source": [
    "## User Input\n",
    "- used to get the user input."
   ]
  },
  {
   "cell_type": "code",
   "execution_count": 2,
   "metadata": {
    "collapsed": false
   },
   "outputs": [
    {
     "name": "stdout",
     "output_type": "stream",
     "text": [
      "What is your name?Diana\n",
      "---\n",
      "Diana\n"
     ]
    }
   ],
   "source": [
    "name = input(\"What is your name?\")\n",
    "print(\"---\")\n",
    "print(name)"
   ]
  },
  {
   "cell_type": "markdown",
   "metadata": {},
   "source": [
    "## Strings '   '\n",
    "\n",
    "Strings are a continuous set of characters represented in quotation marks. \n",
    "\n",
    "Each character has its own position number called index.\n",
    "\n",
    "Remember! The index number starts at 0 !!\n"
   ]
  },
  {
   "cell_type": "code",
   "execution_count": 5,
   "metadata": {
    "collapsed": false
   },
   "outputs": [
    {
     "name": "stdout",
     "output_type": "stream",
     "text": [
      "Hello World!\n",
      "H\n",
      "llo\n",
      "llo World!\n",
      "Hello World!Hello World!\n",
      "Hello World!TEST\n"
     ]
    }
   ],
   "source": [
    "str = 'Hello World!'\n",
    "\n",
    "print (str)          # Prints complete string\n",
    "print (str[0])       # Prints first character of the string\n",
    "print (str[2:5])     # Prints characters starting from 3rd to 5th\n",
    "print (str[2:])      # Prints string starting from 3rd character\n",
    "print (str * 2)      # Prints string two times\n",
    "print (str + \"TEST\") # Prints concatenated string"
   ]
  },
  {
   "cell_type": "code",
   "execution_count": 4,
   "metadata": {
    "collapsed": true
   },
   "outputs": [],
   "source": [
    "# 1. Write a program that asks the user for a string and it prints out what the first letter \n",
    "# of the word is.\n"
   ]
  },
  {
   "cell_type": "code",
   "execution_count": null,
   "metadata": {
    "collapsed": true
   },
   "outputs": [],
   "source": [
    "# 2. Write a program that asks the user for a string and it prints out what the third letter \n",
    "# of the word is."
   ]
  },
  {
   "cell_type": "code",
   "execution_count": 5,
   "metadata": {
    "collapsed": true
   },
   "outputs": [],
   "source": [
    "# 3. Write a program that asks the user for a string and it prints out the last letter \n",
    "# of the string. "
   ]
  },
  {
   "cell_type": "markdown",
   "metadata": {},
   "source": [
    "# Lists [  ]\n",
    "- contains items separated by commas and enclosed within square brackets [  ]\n",
    "- versatile (able to adapt / change).\n",
    "- the elements and size of the list can be changed. \n",
    "- the items in a list can be of different data types. \n"
   ]
  },
  {
   "cell_type": "code",
   "execution_count": 15,
   "metadata": {
    "collapsed": false
   },
   "outputs": [
    {
     "name": "stdout",
     "output_type": "stream",
     "text": [
      "['abcd', 786, 2.23, 'john', 70.2]\n",
      "abcd\n",
      "[786, 2.23]\n",
      "[2.23, 'john', 70.2]\n",
      "[123, 'john', 123, 'john']\n",
      "['abcd', 786, 2.23, 'john', 70.2, 123, 'john']\n"
     ]
    }
   ],
   "source": [
    "list = [ 'abcd', 786 , 2.23, 'john', 70.2 ]\n",
    "tinylist = [123, 'john']\n",
    "\n",
    "print (list)          # Prints complete list\n",
    "print (list[0])       # Prints first element of the list\n",
    "print (list[1:3])     # Prints elements starting from 2nd till 3rd \n",
    "print (list[2:])      # Prints elements starting from 3rd element\n",
    "print (tinylist * 2)  # Prints list two times\n",
    "print (list + tinylist) # Prints concatenated lists"
   ]
  },
  {
   "cell_type": "markdown",
   "metadata": {},
   "source": [
    "## Tuples (  )\n",
    "\n",
    "- are lists that cannot be updated.\n",
    "- They are read - only. "
   ]
  },
  {
   "cell_type": "code",
   "execution_count": 16,
   "metadata": {
    "collapsed": false
   },
   "outputs": [
    {
     "name": "stdout",
     "output_type": "stream",
     "text": [
      "('abcd', 786, 2.23, 'john', 70.2)\n",
      "abcd\n",
      "(786, 2.23)\n",
      "(2.23, 'john', 70.2)\n",
      "(123, 'john', 123, 'john')\n",
      "('abcd', 786, 2.23, 'john', 70.2, 123, 'john')\n"
     ]
    }
   ],
   "source": [
    "tuple = ( 'abcd', 786 , 2.23, 'john', 70.2  )\n",
    "tinytuple = (123, 'john')\n",
    "\n",
    "print (tuple)           # Prints complete list\n",
    "print (tuple[0])        # Prints first element of the list\n",
    "print (tuple[1:3])      # Prints elements starting from 2nd till 3rd \n",
    "print (tuple[2:])       # Prints elements starting from 3rd element\n",
    "print (tinytuple * 2)   # Prints list two times\n",
    "print (tuple + tinytuple) # Prints concatenated lists"
   ]
  },
  {
   "cell_type": "markdown",
   "metadata": {},
   "source": [
    "## Modifying Lists"
   ]
  },
  {
   "cell_type": "code",
   "execution_count": 7,
   "metadata": {
    "collapsed": false
   },
   "outputs": [
    {
     "name": "stdout",
     "output_type": "stream",
     "text": [
      "[2, 3, 40, 5, 12, 7]\n"
     ]
    }
   ],
   "source": [
    "myList = [2,3,4,5,6,7]\n",
    "myList[2] = 40\n",
    "myList[4] = myList[4] * 2\n",
    "\n",
    "print(myList)"
   ]
  },
  {
   "cell_type": "markdown",
   "metadata": {},
   "source": [
    "!!! Now it's your turn! Create a list of 3 numbers. \n",
    "- change the value of the first by adding 1 to itself. \n",
    "- change the value of the second element by multiplying it to itself.\n",
    "- change the value of the third element with the sum of the first two new elements of the list."
   ]
  },
  {
   "cell_type": "code",
   "execution_count": 5,
   "metadata": {
    "collapsed": false
   },
   "outputs": [],
   "source": [
    "# Put your code here:\n",
    "#\n",
    "#\n"
   ]
  }
 ],
 "metadata": {
  "anaconda-cloud": {},
  "kernelspec": {
   "display_name": "Python [Root]",
   "language": "python",
   "name": "Python [Root]"
  },
  "language_info": {
   "codemirror_mode": {
    "name": "ipython",
    "version": 3
   },
   "file_extension": ".py",
   "mimetype": "text/x-python",
   "name": "python",
   "nbconvert_exporter": "python",
   "pygments_lexer": "ipython3",
   "version": "3.5.2"
  }
 },
 "nbformat": 4,
 "nbformat_minor": 0
}
