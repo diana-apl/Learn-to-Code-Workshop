{
 "cells": [
  {
   "cell_type": "code",
   "execution_count": 5,
   "metadata": {
    "collapsed": false
   },
   "outputs": [],
   "source": [
    "# Review form Week 1\n",
    "# Run the following program. Why are you getting an error?\n",
    "\n",
    "x = \"30\"\n",
    "y = x + 10"
   ]
  },
  {
   "cell_type": "markdown",
   "metadata": {},
   "source": [
    "### Changing types\n",
    "int(x) converts x into an intiger\n",
    "\n",
    "float(x) converts x into a float (decimal number)\n",
    "\n",
    "str(x) converts x into a string \n",
    "\n",
    "!! Now that you know how to convert a string to an intiger, fix the above code. Don't forget to print y to see the value stored in variable y. "
   ]
  },
  {
   "cell_type": "code",
   "execution_count": 3,
   "metadata": {
    "collapsed": false
   },
   "outputs": [],
   "source": [
    "a = \"30\"    # a is a string\n",
    "b = int(a)  # b is an intiger\n",
    "c = str(b)  # c is a string\n",
    "\n",
    "# If you print a, b, and c you will see that there is no difference in what you see, but it memory b is a different type. \n",
    "# b can be added, subtracted, divided etc. \n",
    "# a,c can be joined (concatenated) with other strings, but they cannot perform arithmetic operations.\n",
    "\n",
    "print (a + 3) # returns error, because a string cannot be concatenated with an intiger. \n",
    "# Try to fix it. You can make both a string, or you can make both integers. See the difference? \n",
    "\n"
   ]
  },
  {
   "cell_type": "markdown",
   "metadata": {},
   "source": [
    "# If Statements / Conditional Statements \n",
    "\n",
    "- execute a block of code based on a condition. \n",
    "- tell the program to do something else if the condition is not met. \n",
    "\n",
    "[Click here to read more about If Statements](https://www.tutorialspoint.com/python/python_decision_making.htm)"
   ]
  },
  {
   "cell_type": "markdown",
   "metadata": {},
   "source": [
    "<img src = 'If Statments Slide 2.jpg' width = 500>"
   ]
  },
  {
   "cell_type": "code",
   "execution_count": null,
   "metadata": {
    "collapsed": true
   },
   "outputs": [],
   "source": [
    "# Run the following code (Shift + Enter) and take a look at the output. Can you see the error? Try and fix it!\n",
    "var = 3 < 2\n",
    "b = 5 > 3\n",
    "print(3 = 4)\n",
    "\n",
    "print (var)\n",
    "print (b)"
   ]
  },
  {
   "cell_type": "markdown",
   "metadata": {},
   "source": [
    "#### If statement: \n",
    "<img src = 'if_diagram1.gif' width = 300>"
   ]
  },
  {
   "cell_type": "code",
   "execution_count": null,
   "metadata": {
    "collapsed": true
   },
   "outputs": [],
   "source": [
    "# Take a look at the following exercises. Run the code and make sure you understand why it works.\n",
    "'''\n",
    "Imagine you are writing a program for an airport. Your program should ask the user how much their suitcase weights and tell \n",
    "the user if the suitcase is too heavy or good to go. 50 pounds is the maximum weight for a checked bag.\n",
    "'''\n",
    "weight = float(input(\"How many pounds does your suitcase weight?\"))\n",
    "if (weight > 50):\n",
    "    print(\"There is a $25 charge for luggage that heavy.\")\n",
    "print(\"Thank you for your business\")"
   ]
  },
  {
   "cell_type": "markdown",
   "metadata": {},
   "source": [
    "#### If and else statement:\n",
    "<img src = 'if_diagram2.png' width = 300>"
   ]
  },
  {
   "cell_type": "code",
   "execution_count": null,
   "metadata": {
    "collapsed": true
   },
   "outputs": [],
   "source": [
    "## Write a program that given a number, it returns if the number is positive or negative. \n",
    "num1 = \n",
    "if ():\n",
    "    print( ___)\n",
    "else:\n",
    "    print(___)"
   ]
  },
  {
   "cell_type": "code",
   "execution_count": 2,
   "metadata": {
    "collapsed": false
   },
   "outputs": [
    {
     "name": "stdout",
     "output_type": "stream",
     "text": [
      "The sum is bigger than 100. \n",
      "Now I am done with everything.\n"
     ]
    }
   ],
   "source": [
    "# Can you understand what this program does?\n",
    "a = 72\n",
    "b = 55\n",
    "if ( a+b < 100):\n",
    "    print (\"The sum is smaller than 100.\")\n",
    "else: \n",
    "    print (\"The sum is bigger than 100. \")\n",
    "print (\"Now I am done with everything.\")"
   ]
  },
  {
   "cell_type": "code",
   "execution_count": null,
   "metadata": {
    "collapsed": true
   },
   "outputs": [],
   "source": [
    "## Write a program that given 2 numbers, it returns if their sum is bigger than 20. \n"
   ]
  },
  {
   "cell_type": "markdown",
   "metadata": {},
   "source": [
    "#### !!! Indentation matters!! "
   ]
  },
  {
   "cell_type": "code",
   "execution_count": null,
   "metadata": {
    "collapsed": true
   },
   "outputs": [],
   "source": [
    "'''\n",
    "You are writing a program for the Pokemon Go users and you want to check if they are old enough to accept the Terms and \n",
    "Conditions. If they are younger than 13, tell them that a parent needs to accept for them.\n",
    "'''\n",
    "#Insert your code here:\n",
    "#\n"
   ]
  },
  {
   "cell_type": "markdown",
   "metadata": {},
   "source": [
    "Sometimes there is more than one condition that your program needs to check for.This is what 'elif' is used for:"
   ]
  },
  {
   "cell_type": "code",
   "execution_count": null,
   "metadata": {
    "collapsed": false
   },
   "outputs": [],
   "source": [
    "if (expression1):\n",
    "    statements\n",
    "elif (expression2):\n",
    "    statements\n",
    "elif(expression3):\n",
    "    statements\n",
    "else:\n",
    "    statements"
   ]
  },
  {
   "cell_type": "markdown",
   "metadata": {},
   "source": [
    "!!! Notice that after if and elif there is always an expression (a condition), but after else there is never a condition.  "
   ]
  },
  {
   "cell_type": "code",
   "execution_count": null,
   "metadata": {
    "collapsed": true
   },
   "outputs": [],
   "source": [
    "# Write a similar program with the one that told your user of their suitcase was too heavy, but this time let the user know if \n",
    "# he/she reached the max weight. \n",
    "# If the weight of the bag is bigger than 50 pounds, inform the user that there is a $25 charge.\n",
    "# If the weight of the bag is smaller or equal to 50 pounds, inform the user that there is no charge. \n",
    "# Don't forget to thank the users for their business. \n"
   ]
  },
  {
   "cell_type": "code",
   "execution_count": null,
   "metadata": {
    "collapsed": true
   },
   "outputs": [],
   "source": [
    "## Write a program that given 3 numbers, it returns if their sum is smaller than 50, equal to 50 or bigger than 50. \n"
   ]
  },
  {
   "cell_type": "markdown",
   "metadata": {},
   "source": [
    "[Please take the survey!](goo.gl/forms/g3vv2hFcA67w16Vt2)"
   ]
  }
 ],
 "metadata": {
  "kernelspec": {
   "display_name": "Python [Root]",
   "language": "python",
   "name": "Python [Root]"
  },
  "language_info": {
   "codemirror_mode": {
    "name": "ipython",
    "version": 3
   },
   "file_extension": ".py",
   "mimetype": "text/x-python",
   "name": "python",
   "nbconvert_exporter": "python",
   "pygments_lexer": "ipython3",
   "version": "3.5.2"
  }
 },
 "nbformat": 4,
 "nbformat_minor": 0
}
